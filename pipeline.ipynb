{
 "cells": [
  {
   "cell_type": "markdown",
   "id": "e3bf0613-d6ec-4cf4-87e5-062fd3bd3a82",
   "metadata": {},
   "source": [
    "## Installation\n",
    "Install the packages required for executing this notebook."
   ]
  },
  {
   "cell_type": "code",
   "execution_count": 1,
   "id": "69f1d825-84cc-43ac-9fe2-f204d77f0962",
   "metadata": {},
   "outputs": [
    {
     "name": "stdout",
     "output_type": "stream",
     "text": [
      "Requirement already satisfied: kfp>2 in /opt/conda/lib/python3.10/site-packages (2.3.0)\n",
      "Requirement already satisfied: google-cloud-pipeline-components>2 in /home/jupyter/.local/lib/python3.10/site-packages (2.4.1)\n",
      "Requirement already satisfied: google-cloud-aiplatform in /home/jupyter/.local/lib/python3.10/site-packages (1.35.0)\n",
      "Requirement already satisfied: click<9,>=8.0.0 in /opt/conda/lib/python3.10/site-packages (from kfp>2) (8.1.7)\n",
      "Requirement already satisfied: docstring-parser<1,>=0.7.3 in /opt/conda/lib/python3.10/site-packages (from kfp>2) (0.15)\n",
      "Requirement already satisfied: google-api-core!=2.0.*,!=2.1.*,!=2.2.*,!=2.3.0,<3.0.0dev,>=1.31.5 in /opt/conda/lib/python3.10/site-packages (from kfp>2) (1.34.0)\n",
      "Requirement already satisfied: google-auth<3,>=1.6.1 in /opt/conda/lib/python3.10/site-packages (from kfp>2) (2.23.0)\n",
      "Requirement already satisfied: google-cloud-storage<3,>=2.2.1 in /opt/conda/lib/python3.10/site-packages (from kfp>2) (2.11.0)\n",
      "Requirement already satisfied: kfp-pipeline-spec==0.2.2 in /opt/conda/lib/python3.10/site-packages (from kfp>2) (0.2.2)\n",
      "Requirement already satisfied: kfp-server-api<2.1.0,>=2.0.0 in /opt/conda/lib/python3.10/site-packages (from kfp>2) (2.0.1)\n",
      "Requirement already satisfied: kubernetes<27,>=8.0.0 in /opt/conda/lib/python3.10/site-packages (from kfp>2) (26.1.0)\n",
      "Requirement already satisfied: protobuf<4,>=3.13.0 in /opt/conda/lib/python3.10/site-packages (from kfp>2) (3.20.3)\n",
      "Requirement already satisfied: PyYAML<7,>=5.3 in /opt/conda/lib/python3.10/site-packages (from kfp>2) (6.0.1)\n",
      "Requirement already satisfied: requests-toolbelt<1,>=0.8.0 in /opt/conda/lib/python3.10/site-packages (from kfp>2) (0.10.1)\n",
      "Requirement already satisfied: tabulate<1,>=0.8.6 in /opt/conda/lib/python3.10/site-packages (from kfp>2) (0.9.0)\n",
      "Requirement already satisfied: urllib3<2.0.0 in /opt/conda/lib/python3.10/site-packages (from kfp>2) (1.26.16)\n",
      "Requirement already satisfied: Jinja2==3.1.2 in /opt/conda/lib/python3.10/site-packages (from google-cloud-pipeline-components>2) (3.1.2)\n",
      "Requirement already satisfied: MarkupSafe>=2.0 in /opt/conda/lib/python3.10/site-packages (from Jinja2==3.1.2->google-cloud-pipeline-components>2) (2.1.3)\n",
      "Requirement already satisfied: proto-plus<2.0.0dev,>=1.22.0 in /opt/conda/lib/python3.10/site-packages (from google-cloud-aiplatform) (1.22.3)\n",
      "Requirement already satisfied: packaging>=14.3 in /opt/conda/lib/python3.10/site-packages (from google-cloud-aiplatform) (23.1)\n",
      "Requirement already satisfied: google-cloud-bigquery<4.0.0dev,>=1.15.0 in /opt/conda/lib/python3.10/site-packages (from google-cloud-aiplatform) (3.11.4)\n",
      "Requirement already satisfied: google-cloud-resource-manager<3.0.0dev,>=1.3.3 in /opt/conda/lib/python3.10/site-packages (from google-cloud-aiplatform) (1.10.4)\n",
      "Requirement already satisfied: shapely<3.0.0dev in /opt/conda/lib/python3.10/site-packages (from google-cloud-aiplatform) (1.8.5.post1)\n",
      "Requirement already satisfied: googleapis-common-protos<2.0dev,>=1.56.2 in /opt/conda/lib/python3.10/site-packages (from google-api-core!=2.0.*,!=2.1.*,!=2.2.*,!=2.3.0,<3.0.0dev,>=1.31.5->kfp>2) (1.60.0)\n",
      "Requirement already satisfied: requests<3.0.0dev,>=2.18.0 in /opt/conda/lib/python3.10/site-packages (from google-api-core!=2.0.*,!=2.1.*,!=2.2.*,!=2.3.0,<3.0.0dev,>=1.31.5->kfp>2) (2.31.0)\n",
      "Requirement already satisfied: grpcio<2.0dev,>=1.33.2 in /opt/conda/lib/python3.10/site-packages (from google-api-core!=2.0.*,!=2.1.*,!=2.2.*,!=2.3.0,<3.0.0dev,>=1.31.5->kfp>2) (1.58.0)\n",
      "Requirement already satisfied: grpcio-status<2.0dev,>=1.33.2 in /opt/conda/lib/python3.10/site-packages (from google-api-core!=2.0.*,!=2.1.*,!=2.2.*,!=2.3.0,<3.0.0dev,>=1.31.5->kfp>2) (1.48.2)\n",
      "Requirement already satisfied: cachetools<6.0,>=2.0.0 in /opt/conda/lib/python3.10/site-packages (from google-auth<3,>=1.6.1->kfp>2) (5.3.1)\n",
      "Requirement already satisfied: pyasn1-modules>=0.2.1 in /opt/conda/lib/python3.10/site-packages (from google-auth<3,>=1.6.1->kfp>2) (0.3.0)\n",
      "Requirement already satisfied: rsa<5,>=3.1.4 in /opt/conda/lib/python3.10/site-packages (from google-auth<3,>=1.6.1->kfp>2) (4.9)\n",
      "Requirement already satisfied: google-cloud-core<3.0.0dev,>=1.6.0 in /opt/conda/lib/python3.10/site-packages (from google-cloud-bigquery<4.0.0dev,>=1.15.0->google-cloud-aiplatform) (2.3.3)\n",
      "Requirement already satisfied: google-resumable-media<3.0dev,>=0.6.0 in /opt/conda/lib/python3.10/site-packages (from google-cloud-bigquery<4.0.0dev,>=1.15.0->google-cloud-aiplatform) (2.6.0)\n",
      "Requirement already satisfied: python-dateutil<3.0dev,>=2.7.2 in /opt/conda/lib/python3.10/site-packages (from google-cloud-bigquery<4.0.0dev,>=1.15.0->google-cloud-aiplatform) (2.8.2)\n",
      "Requirement already satisfied: grpc-google-iam-v1<1.0.0dev,>=0.12.4 in /opt/conda/lib/python3.10/site-packages (from google-cloud-resource-manager<3.0.0dev,>=1.3.3->google-cloud-aiplatform) (0.12.6)\n",
      "Requirement already satisfied: six>=1.10 in /opt/conda/lib/python3.10/site-packages (from kfp-server-api<2.1.0,>=2.0.0->kfp>2) (1.16.0)\n",
      "Requirement already satisfied: certifi in /opt/conda/lib/python3.10/site-packages (from kfp-server-api<2.1.0,>=2.0.0->kfp>2) (2023.7.22)\n",
      "Requirement already satisfied: setuptools>=21.0.0 in /opt/conda/lib/python3.10/site-packages (from kubernetes<27,>=8.0.0->kfp>2) (68.2.2)\n",
      "Requirement already satisfied: websocket-client!=0.40.0,!=0.41.*,!=0.42.*,>=0.32.0 in /opt/conda/lib/python3.10/site-packages (from kubernetes<27,>=8.0.0->kfp>2) (1.6.3)\n",
      "Requirement already satisfied: requests-oauthlib in /opt/conda/lib/python3.10/site-packages (from kubernetes<27,>=8.0.0->kfp>2) (1.3.1)\n",
      "Requirement already satisfied: google-crc32c<2.0dev,>=1.0 in /opt/conda/lib/python3.10/site-packages (from google-resumable-media<3.0dev,>=0.6.0->google-cloud-bigquery<4.0.0dev,>=1.15.0->google-cloud-aiplatform) (1.5.0)\n",
      "Requirement already satisfied: pyasn1<0.6.0,>=0.4.6 in /opt/conda/lib/python3.10/site-packages (from pyasn1-modules>=0.2.1->google-auth<3,>=1.6.1->kfp>2) (0.5.0)\n",
      "Requirement already satisfied: charset-normalizer<4,>=2 in /opt/conda/lib/python3.10/site-packages (from requests<3.0.0dev,>=2.18.0->google-api-core!=2.0.*,!=2.1.*,!=2.2.*,!=2.3.0,<3.0.0dev,>=1.31.5->kfp>2) (3.2.0)\n",
      "Requirement already satisfied: idna<4,>=2.5 in /opt/conda/lib/python3.10/site-packages (from requests<3.0.0dev,>=2.18.0->google-api-core!=2.0.*,!=2.1.*,!=2.2.*,!=2.3.0,<3.0.0dev,>=1.31.5->kfp>2) (3.4)\n",
      "Requirement already satisfied: oauthlib>=3.0.0 in /opt/conda/lib/python3.10/site-packages (from requests-oauthlib->kubernetes<27,>=8.0.0->kfp>2) (3.2.2)\n"
     ]
    }
   ],
   "source": [
    "# Install the packages\n",
    "! pip3 install --user --no-cache-dir --upgrade \"kfp>2\" \"google-cloud-pipeline-components>2\" \\\n",
    "                                        google-cloud-aiplatform"
   ]
  },
  {
   "cell_type": "markdown",
   "id": "62bc6a21-604f-4a52-b904-e3bb18a61b2f",
   "metadata": {},
   "source": [
    "## Restart the kernel\n",
    "Once you've installed the additional packages, you need to restart the notebook kernel so it can find the packages."
   ]
  },
  {
   "cell_type": "code",
   "execution_count": 2,
   "id": "52dad0c4-c173-46b8-bf99-d6e8efc35316",
   "metadata": {},
   "outputs": [],
   "source": [
    "import os\n",
    "\n",
    "if not os.getenv(\"IS_TESTING\"):\n",
    "    # Automatically restart kernel after installs\n",
    "    import IPython\n",
    "\n",
    "    app = IPython.Application.instance()\n",
    "    app.kernel.do_shutdown(True)"
   ]
  },
  {
   "cell_type": "markdown",
   "id": "f2207b06-771f-4dbb-a713-90c50745c0ea",
   "metadata": {},
   "source": [
    "## Check the versions of the packages you installed. The KFP SDK version should be >2."
   ]
  },
  {
   "cell_type": "code",
   "execution_count": 312,
   "id": "b5b60838-e5a2-41cd-ae93-43925343fba5",
   "metadata": {},
   "outputs": [
    {
     "name": "stdout",
     "output_type": "stream",
     "text": [
      "KFP SDK version: 2.3.0\n",
      "google-cloud-aiplatform==1.35.0\n",
      "google_cloud_pipeline_components version: 2.4.1\n"
     ]
    }
   ],
   "source": [
    "! python3 -c \"import kfp; print('KFP SDK version: {}'.format(kfp.__version__))\"\n",
    "! pip3 freeze | grep aiplatform\n",
    "! python3 -c \"import google_cloud_pipeline_components; print('google_cloud_pipeline_components version: {}'.format(google_cloud_pipeline_components.__version__))\""
   ]
  },
  {
   "cell_type": "code",
   "execution_count": 387,
   "id": "5f0bcff2-3ffb-4e51-b852-511cb10ad0f9",
   "metadata": {},
   "outputs": [],
   "source": [
    "import kfp\n",
    "import typing\n",
    "from typing import Dict\n",
    "from typing import NamedTuple\n",
    "from kfp import dsl\n",
    "from kfp.dsl import (Artifact,\n",
    "                        Dataset,\n",
    "                        Input,\n",
    "                        Model,\n",
    "                        Output,\n",
    "                        Metrics,\n",
    "                        ClassificationMetrics,\n",
    "                        component, \n",
    "                        OutputPath, \n",
    "                        InputPath)\n",
    "import google.cloud.aiplatform as aip\n",
    "from google_cloud_pipeline_components.types import artifact_types"
   ]
  },
  {
   "cell_type": "markdown",
   "id": "01afffb0-449b-4669-807a-793f526277fe",
   "metadata": {},
   "source": [
    "#### Project and Pipeline Configurations"
   ]
  },
  {
   "cell_type": "code",
   "execution_count": 388,
   "id": "abf6aad4-f675-47aa-820b-14daa796d89f",
   "metadata": {},
   "outputs": [],
   "source": [
    "#The Google Cloud project that this pipeline runs in.\n",
    "PROJECT_ID = \"your-project-id\"\n",
    "# The region that this pipeline runs in\n",
    "REGION = \"us-central1\"\n",
    "# Specify a Cloud Storage URI that your pipelines service account can access. The artifacts of your pipeline runs are stored within the pipeline root.\n",
    "PIPELINE_ROOT = \"gs://your-temp_de2023-bucket\""
   ]
  },
  {
   "cell_type": "markdown",
   "id": "2457ef88-cd95-4304-b6e0-143b718c44aa",
   "metadata": {},
   "source": [
    "#### Pipeline Component : Data Ingestion"
   ]
  },
  {
   "cell_type": "code",
   "execution_count": 389,
   "id": "83bc305f-2456-4c07-b89f-427b0f24eaf2",
   "metadata": {},
   "outputs": [],
   "source": [
    "@dsl.component(\n",
    "    packages_to_install=[\"pandas\",\"google-cloud-storage\"],\n",
    "    base_image=\"python:3.10.7-slim\"\n",
    ")\n",
    "def download_data(project_id: str, bucket: str, file_name: str, dataset: Output[Dataset]):\n",
    "    '''download data'''\n",
    "    from google.cloud import storage\n",
    "    import pandas as pd\n",
    "    import logging \n",
    "    import sys\n",
    "    \n",
    "    logging.basicConfig(stream=sys.stdout, level=logging.INFO)\n",
    "    \n",
    "    # Downloaing the file from a google bucket \n",
    "    client = storage.Client(project=project_id)\n",
    "    bucket = client.bucket(bucket)\n",
    "    blob = bucket.blob(file_name)\n",
    "    blob.download_to_filename(dataset.path + \".json\")\n",
    "    logging.info('Downloaded Data!')"
   ]
  },
  {
   "cell_type": "markdown",
   "id": "334be4dc-fe4c-4c6d-a6bb-234a664dfb9b",
   "metadata": {},
   "source": [
    "#### Pipeline Component : Train and Test split"
   ]
  },
  {
   "cell_type": "code",
   "execution_count": 390,
   "id": "34a87f35-7b0a-40e7-8c7f-8a6cefec7b7f",
   "metadata": {},
   "outputs": [],
   "source": [
    "@dsl.component(\n",
    "    packages_to_install=[\"pandas\", \"scikit-learn\"],\n",
    "    base_image=\"python:3.10.7-slim\"\n",
    ")\n",
    "def train_test_split(dataset: Input[Dataset], X_train: Output[Dataset], X_test: Output[Dataset], Y_train: Output[Dataset], Y_test: Output[Dataset]):\n",
    "    '''train_test_split'''\n",
    "    import pandas as pd\n",
    "    import logging \n",
    "    import sys\n",
    "    from sklearn.model_selection import train_test_split\n",
    "    \n",
    "    logging.basicConfig(stream=sys.stdout, level=logging.INFO)\n",
    "    \n",
    "    data = pd.read_json(dataset.path + \".json\", orient='records')\n",
    "    data_values = data.values\n",
    "    \n",
    "    X = data_values[:, 0:6]\n",
    "    Y = data_values[:, 6]\n",
    "    \n",
    "    x_train, x_test, y_train, y_test = train_test_split(X, Y, test_size=0.2, random_state=42)\n",
    "    \n",
    "    logging.info(x_train.shape, y_train.shape, x_test.shape, y_test.shape)\n",
    "    \n",
    "    pd.DataFrame(x_train).to_json(X_train.path + '.json')\n",
    "    pd.DataFrame(x_test).to_json(X_test.path + '.json')\n",
    "    pd.DataFrame(y_train).to_json(Y_train.path + '.json')\n",
    "    pd.DataFrame(y_test).to_json(Y_test.path + '.json')"
   ]
  },
  {
   "cell_type": "markdown",
   "id": "cb3494d2-bea7-415f-9832-fcf1f2c9fe4a",
   "metadata": {},
   "source": [
    "#### Pipeline Component : Training Linear Regression"
   ]
  },
  {
   "cell_type": "code",
   "execution_count": 392,
   "id": "e194fc48-1343-4bd5-9c69-f3d1ce826321",
   "metadata": {},
   "outputs": [],
   "source": [
    "@dsl.component(\n",
    "    packages_to_install=['pandas', 'scikit-learn', 'tensorflow', 'h5py'],\n",
    "    base_image=\"python:3.10.7-slim\"\n",
    ")\n",
    "def train_lr (X_train: Input[Dataset], Y_train: Input[Dataset], X_test: Input[Dataset], Y_test: Input[Dataset], out_model: Output[Model]) -> NamedTuple('outputs', metrics=dict):\n",
    "    '''train a MLP with default parameters'''\n",
    "    import pandas as pd\n",
    "    from sklearn.linear_model import LinearRegression\n",
    "    from sklearn import metrics\n",
    "    import json\n",
    "    import logging \n",
    "    import sys\n",
    "    import os\n",
    "    import pickle\n",
    "        \n",
    "    logging.basicConfig(stream=sys.stdout, level=logging.INFO)\n",
    "    \n",
    "    df_x_train = pd.read_json(X_train.path + \".json\") \n",
    "    df_y_train = pd.read_json(Y_train.path + \".json\")     \n",
    "    df_x_test = pd.read_json(X_test.path + \".json\") \n",
    "    df_y_test = pd.read_json(Y_test.path + \".json\")\n",
    "        \n",
    "    # define model\n",
    "    model_lr = LinearRegression()\n",
    "    \n",
    "    logging.info(df_x_train.shape, df_y_train.shape, df_x_test.shape, df_y_test.shape)\n",
    "    \n",
    "    # Fit the model\n",
    "    model_lr.fit(df_x_train, df_y_train)\n",
    "    \n",
    "    y_pred = model_lr.predict(df_x_test)\n",
    "    # evaluate the model\n",
    "    scores_1 = metrics.r2_score(df_y_test, y_pred)\n",
    "    scores_2 = metrics.mean_absolute_error(df_y_test, y_pred)\n",
    "    metrics_dict = {\n",
    "        \"R^2\": scores_1,\n",
    "        \"Mean absolute error\": scores_2\n",
    "    }\n",
    "    \n",
    "    logging.info(metrics_dict)  \n",
    "    \n",
    "    out_model.metadata[\"algo\"] = \"lr\"\n",
    "    \n",
    "    # Save the model\n",
    "    m_file = out_model.path\n",
    "    with open(m_file, 'wb') as file:  \n",
    "        pickle.dump(model_lr, file)\n",
    "    outputs = NamedTuple('outputs', metrics=dict)\n",
    "    return outputs(metrics_dict)     "
   ]
  },
  {
   "cell_type": "markdown",
   "id": "f911d312-549c-4be7-bef0-e02c9d8cf80f",
   "metadata": {},
   "source": [
    "#### Pipeline Component : Training Random Forest Regressor"
   ]
  },
  {
   "cell_type": "code",
   "execution_count": 393,
   "id": "acee72f0-007a-4e9c-853a-e6cf66f2a4fa",
   "metadata": {},
   "outputs": [],
   "source": [
    "@dsl.component(\n",
    "    packages_to_install=['pandas', 'scikit-learn', 'tensorflow', 'h5py'],\n",
    "    base_image=\"python:3.10.7-slim\"\n",
    ")\n",
    "def train_rf (X_train: Input[Dataset], Y_train: Input[Dataset], X_test: Input[Dataset], Y_test: Input[Dataset], out_model: Output[Model]) -> NamedTuple('outputs', metrics=dict):\n",
    "    '''train a MLP with default parameters'''\n",
    "    import pandas as pd\n",
    "    from sklearn.ensemble import RandomForestRegressor\n",
    "    from sklearn import metrics\n",
    "    import json\n",
    "    import logging \n",
    "    import sys\n",
    "    import os\n",
    "    import pickle\n",
    "    \n",
    "    logging.basicConfig(stream=sys.stdout, level=logging.INFO)\n",
    "    \n",
    "    df_x_train = pd.read_json(X_train.path + \".json\") \n",
    "    df_y_train = pd.read_json(Y_train.path + \".json\")     \n",
    "    df_x_test = pd.read_json(X_test.path + \".json\") \n",
    "    df_y_test = pd.read_json(Y_test.path + \".json\")\n",
    "        \n",
    "    # define model\n",
    "    model_rf = RandomForestRegressor()\n",
    "    \n",
    "    logging.info(df_x_train.shape, df_y_train.shape, df_x_test.shape, df_y_test.shape)\n",
    "    \n",
    "    # Fit the model\n",
    "    model_rf.fit(df_x_train, df_y_train)\n",
    "    \n",
    "    y_pred = model_rf.predict(df_x_test)\n",
    "    # evaluate the model\n",
    "    scores_1 = metrics.r2_score(df_y_test, y_pred)\n",
    "    scores_2 = metrics.mean_absolute_error(df_y_test, y_pred)\n",
    "    metrics_dict = {\n",
    "        \"R^2\": scores_1,\n",
    "        \"Mean absolute error\": scores_2\n",
    "    }\n",
    "    \n",
    "    logging.info(metrics_dict)  \n",
    "    \n",
    "    out_model.metadata[\"algo\"] = \"rf\"\n",
    "    \n",
    "    # Save the model\n",
    "    m_file = out_model.path\n",
    "    with open(m_file, 'wb') as file:  \n",
    "        pickle.dump(model_rf, file)\n",
    "    outputs = NamedTuple('outputs', metrics=dict)\n",
    "    return outputs(metrics_dict)"
   ]
  },
  {
   "cell_type": "markdown",
   "id": "947b9da1-25a2-4afa-a975-c7659ea67693",
   "metadata": {},
   "source": [
    "#### Pipeline Component: Training Gradient Boosting Regressor"
   ]
  },
  {
   "cell_type": "code",
   "execution_count": 394,
   "id": "63602730-9472-40da-a4fb-a14b895813a4",
   "metadata": {},
   "outputs": [],
   "source": [
    "@dsl.component(\n",
    "    packages_to_install=['pandas', 'scikit-learn', 'tensorflow', 'h5py'],\n",
    "    base_image=\"python:3.10.7-slim\"\n",
    ")\n",
    "def train_gr (X_train: Input[Dataset], Y_train: Input[Dataset], X_test: Input[Dataset], Y_test: Input[Dataset], out_model: Output[Model]) -> NamedTuple('outputs', metrics=dict):\n",
    "    '''train a MLP with default parameters'''\n",
    "    import pandas as pd\n",
    "    from sklearn.ensemble import GradientBoostingRegressor\n",
    "    from sklearn import metrics\n",
    "    import json\n",
    "    import logging \n",
    "    import sys\n",
    "    import os\n",
    "    import pickle\n",
    "        \n",
    "    logging.basicConfig(stream=sys.stdout, level=logging.INFO)\n",
    "    \n",
    "    df_x_train = pd.read_json(X_train.path + \".json\") \n",
    "    df_y_train = pd.read_json(Y_train.path + \".json\")     \n",
    "    df_x_test = pd.read_json(X_test.path + \".json\") \n",
    "    df_y_test = pd.read_json(Y_test.path + \".json\")\n",
    "        \n",
    "    # define model\n",
    "    model_gr = GradientBoostingRegressor()\n",
    "    \n",
    "    logging.info(df_x_train.shape, df_y_train.shape, df_x_test.shape, df_y_test.shape)\n",
    "    \n",
    "    # Fit the model\n",
    "    model_gr.fit(df_x_train, df_y_train)\n",
    "    \n",
    "    y_pred = model_gr.predict(df_x_test)\n",
    "    # evaluate the model\n",
    "    scores_1 = metrics.r2_score(df_y_test, y_pred)\n",
    "    scores_2 = metrics.mean_absolute_error(df_y_test, y_pred)\n",
    "    metrics_dict = {\n",
    "        \"R^2\": scores_1,\n",
    "        \"Mean absolute error\": scores_2\n",
    "    }\n",
    "    \n",
    "    logging.info(metrics_dict)  \n",
    "    \n",
    "    out_model.metadata[\"algo\"] = \"gr\"\n",
    "    \n",
    "    # Save the model\n",
    "    m_file = out_model.path\n",
    "    with open(m_file, 'wb') as file:  \n",
    "        pickle.dump(model_gr, file)\n",
    "    outputs = NamedTuple('outputs', metrics=dict)\n",
    "    return outputs(metrics_dict)"
   ]
  },
  {
   "cell_type": "markdown",
   "id": "08c183e7-f9dd-48d7-b37e-69646bb08203",
   "metadata": {},
   "source": [
    "#### Pipeline Component : Algorithm Selection "
   ]
  },
  {
   "cell_type": "code",
   "execution_count": 395,
   "id": "752057b5-8389-4370-97d5-19e30ebb8dd9",
   "metadata": {},
   "outputs": [],
   "source": [
    "@dsl.component(\n",
    "    base_image=\"python:3.10.7-slim\"\n",
    ")\n",
    "def compare_models(lr_metrics: dict, rf_metrics: dict, gr_metrics: dict) -> str:\n",
    "    import logging\n",
    "    import json\n",
    "    import sys\n",
    "    logging.basicConfig(stream=sys.stdout, level=logging.INFO)\n",
    "    logging.info(lr_metrics)\n",
    "    logging.info(rf_metrics)\n",
    "    logging.info(gr_metrics)\n",
    "    if lr_metrics.get(\"R^2\") > rf_metrics.get(\"R^2\") and lr_metrics.get(\"R^2\") > gr_metrics.get(\"R^2\"):\n",
    "        return \"LR\"\n",
    "    elif rf_metrics.get(\"R^2\") > gr_metrics.get(\"R^2\"):\n",
    "        return \"RF\"\n",
    "    else:\n",
    "        return \"GR\""
   ]
  },
  {
   "cell_type": "markdown",
   "id": "e71ed599-9cd0-4215-a17d-1a8baaa2c76c",
   "metadata": {},
   "source": [
    "### Upload Model and Metrics to Google Bucket "
   ]
  },
  {
   "cell_type": "code",
   "execution_count": 396,
   "id": "9344f481-88ca-4220-a0af-3a055c61455b",
   "metadata": {},
   "outputs": [],
   "source": [
    "@dsl.component(\n",
    "    packages_to_install=[\"google-cloud-storage\"],\n",
    "    base_image=\"python:3.10.7-slim\"\n",
    ")\n",
    "def upload_model_to_gcs(project_id: str, model_repo: str, model: Input[Model]):\n",
    "    '''upload model to gsc'''\n",
    "    from google.cloud import storage   \n",
    "    import logging \n",
    "    import sys\n",
    "    \n",
    "    logging.basicConfig(stream=sys.stdout, level=logging.INFO)    \n",
    "  \n",
    "    # upload the model to GCS\n",
    "    client = storage.Client(project=project_id)\n",
    "    bucket = client.bucket(model_repo)\n",
    "    blob = bucket.blob(str(model.metadata[\"algo\"]) + '_model') \n",
    "    blob.upload_from_filename(model.path)       \n",
    "    \n",
    "    logging.info(\"Saved the model to GCP bucket : \" + model_repo)"
   ]
  },
  {
   "cell_type": "markdown",
   "id": "166590b3-f788-4e4c-8e31-fb981da56966",
   "metadata": {},
   "source": [
    "#### Define the Pipeline"
   ]
  },
  {
   "cell_type": "code",
   "execution_count": 397,
   "id": "a96b6ae0-234b-4883-ae95-8599689a5e07",
   "metadata": {},
   "outputs": [],
   "source": [
    "# Define the workflow of the pipeline.\n",
    "@kfp.dsl.pipeline(\n",
    "    name=\"insurance-prdictor-training-pipeline\")\n",
    "def pipeline(project_id: str, data_bucket: str, dataset_filename: str, model_repo: str):\n",
    "    \n",
    "    \n",
    "    di_op = download_data(\n",
    "        project_id=project_id,\n",
    "        bucket=data_bucket,\n",
    "        file_name=dataset_filename\n",
    "    )\n",
    "\n",
    "    train_test_split_op = train_test_split(\n",
    "        dataset = di_op.outputs[\"dataset\"]\n",
    "    )\n",
    "     \n",
    "    training_lr_job_run_op = train_lr(\n",
    "        X_train = train_test_split_op.outputs[\"X_train\"], \n",
    "        Y_train = train_test_split_op.outputs[\"Y_train\"], \n",
    "        X_test = train_test_split_op.outputs[\"X_test\"], \n",
    "        Y_test = train_test_split_op.outputs[\"Y_test\"]  \n",
    "    )\n",
    "    \n",
    "    training_rf_job_run_op = train_rf(\n",
    "        X_train = train_test_split_op.outputs[\"X_train\"], \n",
    "        Y_train = train_test_split_op.outputs[\"Y_train\"], \n",
    "        X_test = train_test_split_op.outputs[\"X_test\"], \n",
    "        Y_test = train_test_split_op.outputs[\"Y_test\"]  \n",
    "    )\n",
    "    \n",
    "    training_gr_job_run_op = train_gr(\n",
    "        X_train = train_test_split_op.outputs[\"X_train\"], \n",
    "        Y_train = train_test_split_op.outputs[\"Y_train\"], \n",
    "        X_test = train_test_split_op.outputs[\"X_test\"], \n",
    "        Y_test = train_test_split_op.outputs[\"Y_test\"]  \n",
    "    )\n",
    "        \n",
    "    comp_model__op = compare_models(\n",
    "        lr_metrics=training_lr_job_run_op.outputs[\"metrics\"],\n",
    "        rf_metrics=training_rf_job_run_op.outputs[\"metrics\"],\n",
    "        gr_metrics=training_gr_job_run_op.outputs[\"metrics\"]\n",
    "    ).after(training_lr_job_run_op, training_rf_job_run_op, training_gr_job_run_op)  \n",
    "    \n",
    "    # defining the branching condition\n",
    "    with dsl.If(comp_model__op.output==\"LR\"):\n",
    "        upload_model_lr_to_gc_op = upload_model_to_gcs(\n",
    "            project_id=project_id,\n",
    "            model_repo=model_repo,\n",
    "            model=training_lr_job_run_op.outputs['out_model']\n",
    "        ).after(training_lr_job_run_op)\n",
    "        \n",
    "    with dsl.If(comp_model__op.output==\"RF\"):\n",
    "        upload_model_rf_to_gc_op = upload_model_to_gcs(\n",
    "            project_id=project_id,\n",
    "            model_repo=model_repo,\n",
    "            model=training_rf_job_run_op.outputs['out_model']\n",
    "        ).after(training_rf_job_run_op)\n",
    "        \n",
    "    with dsl.If(comp_model__op.output==\"GR\"):\n",
    "        upload_model_gr_to_gc_op = upload_model_to_gcs(\n",
    "            project_id=project_id,\n",
    "            model_repo=model_repo,\n",
    "            model=training_gr_job_run_op.outputs['out_model']\n",
    "        ).after(training_gr_job_run_op)"
   ]
  },
  {
   "cell_type": "markdown",
   "id": "ac278200-c580-4f40-bc8b-1817d3b13c13",
   "metadata": {},
   "source": [
    "#### Compile the pipeline into a JSON file"
   ]
  },
  {
   "cell_type": "code",
   "execution_count": 398,
   "id": "f8ee4b21-89e6-4f63-845c-b249556ea919",
   "metadata": {},
   "outputs": [],
   "source": [
    "from kfp import compiler\n",
    "compiler.Compiler().compile(pipeline_func=pipeline,\n",
    "        package_path='insurance_predictor_training_pipeline.yaml')"
   ]
  },
  {
   "cell_type": "markdown",
   "id": "7f87025e-08d7-4608-b37d-c929b6eb5a3c",
   "metadata": {},
   "source": [
    "#### Submit the pipeline run"
   ]
  },
  {
   "cell_type": "code",
   "execution_count": 399,
   "id": "83b88e89-42cd-4e64-bc4e-8e3eddebccff",
   "metadata": {},
   "outputs": [
    {
     "name": "stdout",
     "output_type": "stream",
     "text": [
      "Creating PipelineJob\n",
      "PipelineJob created. Resource name: projects/511734983126/locations/us-central1/pipelineJobs/insurance-prdictor-training-pipeline-20231019130316\n",
      "To use this PipelineJob in another session:\n",
      "pipeline_job = aiplatform.PipelineJob.get('projects/511734983126/locations/us-central1/pipelineJobs/insurance-prdictor-training-pipeline-20231019130316')\n",
      "View Pipeline Job:\n",
      "https://console.cloud.google.com/vertex-ai/locations/us-central1/pipelines/runs/insurance-prdictor-training-pipeline-20231019130316?project=511734983126\n",
      "PipelineJob projects/511734983126/locations/us-central1/pipelineJobs/insurance-prdictor-training-pipeline-20231019130316 current state:\n",
      "PipelineState.PIPELINE_STATE_RUNNING\n",
      "PipelineJob projects/511734983126/locations/us-central1/pipelineJobs/insurance-prdictor-training-pipeline-20231019130316 current state:\n",
      "PipelineState.PIPELINE_STATE_RUNNING\n",
      "PipelineJob projects/511734983126/locations/us-central1/pipelineJobs/insurance-prdictor-training-pipeline-20231019130316 current state:\n",
      "PipelineState.PIPELINE_STATE_RUNNING\n",
      "PipelineJob projects/511734983126/locations/us-central1/pipelineJobs/insurance-prdictor-training-pipeline-20231019130316 current state:\n",
      "PipelineState.PIPELINE_STATE_RUNNING\n",
      "PipelineJob projects/511734983126/locations/us-central1/pipelineJobs/insurance-prdictor-training-pipeline-20231019130316 current state:\n",
      "PipelineState.PIPELINE_STATE_RUNNING\n",
      "PipelineJob projects/511734983126/locations/us-central1/pipelineJobs/insurance-prdictor-training-pipeline-20231019130316 current state:\n",
      "PipelineState.PIPELINE_STATE_RUNNING\n",
      "PipelineJob run completed. Resource name: projects/511734983126/locations/us-central1/pipelineJobs/insurance-prdictor-training-pipeline-20231019130316\n"
     ]
    }
   ],
   "source": [
    "import google.cloud.aiplatform as aip\n",
    "\n",
    "# Before initializing, make sure to set the GOOGLE_APPLICATION_CREDENTIALS\n",
    "# environment variable to the path of your service account.\n",
    "aip.init(\n",
    "    project=PROJECT_ID,\n",
    "    location=REGION,\n",
    ")\n",
    "\n",
    "# Prepare the pipeline job\n",
    "job = aip.PipelineJob(\n",
    "    display_name=\"insurance-predictor\",\n",
    "    enable_caching=False,\n",
    "    template_path=\"insurance_predictor_training_pipeline.yaml\",\n",
    "    pipeline_root=PIPELINE_ROOT,\n",
    "    location=REGION,\n",
    "    parameter_values={\n",
    "        'project_id': PROJECT_ID, # makesure to use your project id \n",
    "        'data_bucket': 'your-data_de2023-bucket',  # makesure to use your data bucket name \n",
    "        'dataset_filename': 'train_data.json',     # makesure to upload these to your data bucket from DE2022/lab4/data\n",
    "        'model_repo':'your-models_de2023-bucket' # makesure to use your model bucket name \n",
    "    }\n",
    ")\n",
    "\n",
    "job.run()"
   ]
  },
  {
   "cell_type": "code",
   "execution_count": null,
   "id": "60719748-8b74-4307-802d-c2daf19f4f88",
   "metadata": {},
   "outputs": [],
   "source": []
  }
 ],
 "metadata": {
  "environment": {
   "kernel": "python3",
   "name": "common-cpu.m84",
   "type": "gcloud",
   "uri": "gcr.io/deeplearning-platform-release/base-cpu:m84"
  },
  "kernelspec": {
   "display_name": "Python (Local)",
   "language": "python",
   "name": "local-base"
  },
  "language_info": {
   "codemirror_mode": {
    "name": "ipython",
    "version": 3
   },
   "file_extension": ".py",
   "mimetype": "text/x-python",
   "name": "python",
   "nbconvert_exporter": "python",
   "pygments_lexer": "ipython3",
   "version": "3.10.12"
  }
 },
 "nbformat": 4,
 "nbformat_minor": 5
}
